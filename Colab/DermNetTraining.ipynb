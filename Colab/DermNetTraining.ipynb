{
  "cells": [
    {
      "cell_type": "code",
      "execution_count": null,
      "metadata": {
        "colab": {
          "base_uri": "https://localhost:8080/"
        },
        "id": "kJRQDS3bF2zs",
        "outputId": "989d487d-c315-4a2c-ede4-f98fca33e760"
      },
      "outputs": [
        {
          "name": "stdout",
          "output_type": "stream",
          "text": [
            "Mounted at /content/drive\n"
          ]
        }
      ],
      "source": [
        "\n",
        "from google.colab import drive\n",
        "drive.flush_and_unmount()\n",
        "drive.mount('/content/drive')"
      ]
    },
    {
      "cell_type": "code",
      "execution_count": null,
      "metadata": {
        "id": "NRy4BhTTF-Sn"
      },
      "outputs": [],
      "source": [
        "\n",
        "import os\n",
        "dataset_path = \"/content/drive/MyDrive/DermNet\"\n",
        "train_dir = os.path.join(dataset_path, \"train\")\n",
        "test_dir = os.path.join(dataset_path, \"test\")"
      ]
    },
    {
      "cell_type": "code",
      "execution_count": null,
      "metadata": {
        "id": "n-YCq7vGF95-"
      },
      "outputs": [],
      "source": [
        "\n",
        "import torch\n",
        "import torch.nn as nn\n",
        "import torch.optim as optim\n",
        "from torchvision import datasets, models, transforms\n",
        "from torch.utils.data import DataLoader"
      ]
    },
    {
      "cell_type": "code",
      "execution_count": null,
      "metadata": {
        "id": "_kB4AnDXGA9t"
      },
      "outputs": [],
      "source": [
        "\n",
        "device = torch.device(\"cuda\" if torch.cuda.is_available() else \"cpu\")"
      ]
    },
    {
      "cell_type": "code",
      "execution_count": null,
      "metadata": {
        "id": "QpRfpZNiGEG9"
      },
      "outputs": [],
      "source": [
        "# Аугментации и нормализация\n",
        "transform_train = transforms.Compose([\n",
        "    transforms.Resize((224, 224)),\n",
        "    transforms.RandomHorizontalFlip(),\n",
        "    transforms.RandomRotation(10),\n",
        "    transforms.ColorJitter(brightness=0.2, contrast=0.2, saturation=0.2),\n",
        "    transforms.ToTensor(),\n",
        "    transforms.Normalize([0.5], [0.5])\n",
        "])\n",
        "\n",
        "transform_test = transforms.Compose([\n",
        "    transforms.Resize((224, 224)),\n",
        "    transforms.ToTensor(),\n",
        "    transforms.Normalize([0.5], [0.5])\n",
        "])"
      ]
    },
    {
      "cell_type": "code",
      "execution_count": null,
      "metadata": {
        "colab": {
          "base_uri": "https://localhost:8080/"
        },
        "id": "xj-8i9H6GHD9",
        "outputId": "2583a1c3-abf1-4fac-a57a-31ebab73a7b3"
      },
      "outputs": [
        {
          "name": "stdout",
          "output_type": "stream",
          "text": [
            "Количество классов: 23\n",
            "Пример классов: ['Акне и розацеа', 'Актинический кератоз Базалиома и другие злокачественные новообразования', 'Атопический дерматит', 'Бородавки, моллюски и другие вирусные инфекции', 'Буллезная болезнь', 'Васкулит', 'Волчанка и другие заболевания соединительной ткани', 'Выпадение волос, алопеция и другие заболевания волосяного покрова', 'Герпес ВПЧ и другие ЗППП', 'Грибок ногтей и другие заболевания ногтей', 'Крапивница', 'Легкие заболевания и нарушения пигментации', 'Меланома, рак кожи, невусы и родинки', 'Опоясывающий лишай Кандидоз и другие грибковые инфекции', 'Псориаз, красный плоский лишай и связанные с ними заболевания', 'Себорейные кератозы и другие доброкачественные опухоли', 'Системное заболевание', 'Сосудистые опухоли', 'Целлюлит, импетиго и другие бактериальные инфекции', 'Чесотка, болезнь Лайма и другие инвазии и укусы', 'Экзантемы и лекарственные высыпания', 'Экзема', 'Ядовитый плющ и другие контактные дерматиты']\n"
          ]
        }
      ],
      "source": [
        "\n",
        "train_dataset = datasets.ImageFolder(train_dir, transform=transform_train)\n",
        "test_dataset = datasets.ImageFolder(test_dir, transform=transform_test)\n",
        "\n",
        "train_loader = DataLoader(train_dataset, batch_size=32, shuffle=True)\n",
        "test_loader = DataLoader(test_dataset, batch_size=32, shuffle=False)\n",
        "\n",
        "print(f\"Количество классов: {len(train_dataset.classes)}\")\n",
        "print(f\"Пример классов: {train_dataset.classes}\")"
      ]
    },
    {
      "cell_type": "code",
      "execution_count": null,
      "metadata": {
        "id": "VsZr9RuFGZn-"
      },
      "outputs": [],
      "source": [
        "# Загрузка и настройка модели\n",
        "model = models.resnet18(pretrained=True)\n",
        "model.fc = nn.Linear(model.fc.in_features, len(train_dataset.classes))\n",
        "model = model.to(device)"
      ]
    },
    {
      "cell_type": "code",
      "execution_count": null,
      "metadata": {
        "id": "A2lwD028GUdF"
      },
      "outputs": [],
      "source": [
        "# Функция потерь и оптимизатор\n",
        "criterion = nn.CrossEntropyLoss()\n",
        "optimizer = torch.optim.Adam(model.parameters(), lr=0.0003)"
      ]
    },
    {
      "cell_type": "code",
      "execution_count": null,
      "metadata": {
        "colab": {
          "background_save": true,
          "base_uri": "https://localhost:8080/"
        },
        "id": "iVqsomwpGed9",
        "outputId": "8a44b19e-d09c-4e62-cd27-a7383aaf6065"
      },
      "outputs": [
        {
          "name": "stdout",
          "output_type": "stream",
          "text": [
            "Эпоха 1: Потери: 399.3830, Точность на обучении: 0.3783\n",
            "           Точность на тесте: 0.3238\n",
            "Эпоха 2: Потери: 324.4625, Точность на обучении: 0.4725\n",
            "           Точность на тесте: 0.4003\n",
            "Эпоха 3: Потери: 281.4313, Точность на обучении: 0.5430\n",
            "           Точность на тесте: 0.5272\n",
            "Эпоха 4: Потери: 234.6953, Точность на обучении: 0.6075\n",
            "           Точность на тесте: 0.5945\n",
            "Эпоха 5: Потери: 195.0492, Точность на обучении: 0.6681\n",
            "           Точность на тесте: 0.6549\n",
            "Эпоха 6: Потери: 164.7127, Точность на обучении: 0.7190\n",
            "           Точность на тесте: 0.6649\n",
            "Эпоха 7: Потери: 126.7632, Точность на обучении: 0.7831\n",
            "           Точность на тесте: 0.8048\n",
            "Эпоха 8: Потери: 99.6232, Точность на обучении: 0.8308\n",
            "           Точность на тесте: 0.8251\n",
            "Эпоха 9: Потери: 78.4171, Точность на обучении: 0.8705\n",
            "           Точность на тесте: 0.8808\n",
            "Эпоха 10: Потери: 65.9043, Точность на обучении: 0.8890\n",
            "           Точность на тесте: 0.9043\n",
            "Модель сохранена по пути: /content/drive/MyDrive/dermnet_model.pth\n"
          ]
        }
      ],
      "source": [
        "\n",
        "def train_model(model, train_loader, test_loader, epochs=10):\n",
        "    for epoch in range(epochs):\n",
        "        model.train()\n",
        "        running_loss = 0.0\n",
        "        correct, total = 0, 0\n",
        "\n",
        "        for images, labels in train_loader:\n",
        "            images, labels = images.to(device), labels.to(device)\n",
        "\n",
        "            optimizer.zero_grad()\n",
        "            outputs = model(images)\n",
        "            loss = criterion(outputs, labels)\n",
        "            loss.backward()\n",
        "            optimizer.step()\n",
        "\n",
        "            running_loss += loss.item()\n",
        "            _, predicted = torch.max(outputs, 1)\n",
        "            total += labels.size(0)\n",
        "            correct += (predicted == labels).sum().item()\n",
        "\n",
        "        accuracy = correct / total\n",
        "        print(f\"Эпоха {epoch+1}: Потери: {running_loss:.4f}, Точность на обучении: {accuracy:.4f}\")\n",
        "        model.eval()\n",
        "        val_correct, val_total = 0, 0\n",
        "        with torch.no_grad():\n",
        "            for images, labels in test_loader:\n",
        "                images, labels = images.to(device), labels.to(device)\n",
        "                outputs = model(images)\n",
        "                _, predicted = torch.max(outputs, 1)\n",
        "                val_total += labels.size(0)\n",
        "                val_correct += (predicted == labels).sum().item()\n",
        "        val_acc = val_correct / val_total\n",
        "        print(f\"           Точность на тесте: {val_acc:.4f}\")\n",
        "train_model(model, train_loader, test_loader, epochs=10)\n",
        "model_save_path = \"/content/drive/MyDrive/dermnet_model.pth\"\n",
        "torch.save(model.state_dict(), model_save_path)\n",
        "print(f\"Модель сохранена по пути: {model_save_path}\")"
      ]
    }
  ],
  "metadata": {
    "colab": {
      "provenance": []
    },
    "kernelspec": {
      "display_name": "Python 3",
      "name": "python3"
    },
    "language_info": {
      "name": "python"
    }
  },
  "nbformat": 4,
  "nbformat_minor": 0
}