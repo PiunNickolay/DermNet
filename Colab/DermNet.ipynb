{
  "cells": [
    {
      "cell_type": "code",
      "execution_count": null,
      "metadata": {
        "colab": {
          "base_uri": "https://localhost:8080/"
        },
        "id": "xEOkbLb01BEw",
        "outputId": "80839622-00b4-4b47-8055-0c1499693b36"
      },
      "outputs": [
        {
          "name": "stdout",
          "output_type": "stream",
          "text": [
            "Drive already mounted at /content/drive; to attempt to forcibly remount, call drive.mount(\"/content/drive\", force_remount=True).\n"
          ]
        }
      ],
      "source": [
        "from flask import Flask, request, jsonify\n",
        "from pyngrok import ngrok\n",
        "import torch\n",
        "import torch.nn as nn\n",
        "import torchvision.models as models\n",
        "import torchvision.transforms as transforms\n",
        "from PIL import Image\n",
        "import io\n",
        "\n",
        "# Подключаем Google Диск\n",
        "from google.colab import drive\n",
        "drive.mount('/content/drive')"
      ]
    },
    {
      "cell_type": "code",
      "execution_count": null,
      "metadata": {
        "colab": {
          "base_uri": "https://localhost:8080/"
        },
        "id": "pqRT6mUd1odh",
        "outputId": "a86fcf93-38b4-4ed0-9396-5401ea5216ed"
      },
      "outputs": [
        {
          "name": "stdout",
          "output_type": "stream",
          "text": [
            "Drive already mounted at /content/drive; to attempt to forcibly remount, call drive.mount(\"/content/drive\", force_remount=True).\n"
          ]
        }
      ],
      "source": [
        "# Модель ResNet18\n",
        "model = models.resnet18(pretrained=False)\n",
        "model.fc = nn.Linear(512, 23)\n",
        "model.load_state_dict(torch.load(\"/content/drive/MyDrive/dermnet_model.pth\", map_location=torch.device(\"cpu\")))\n",
        "model.eval()\n",
        "\n",
        "# Классы\n",
        "labels = [\n",
        "    \"Акне и розацеа\",\n",
        "    \"Актинический кератоз Базалиома и другие злокачественные новообразования\",\n",
        "    \"Атопический дерматит\",\n",
        "    \"Буллезная болезнь\",\n",
        "    \"Целлюлит, импетиго и другие бактериальные инфекции\",\n",
        "    \"Экзема\",\n",
        "    \"Экзантемы и лекарственные высыпания\",\n",
        "    \"Выпадение волос, алопеция и другие заболевания волосяного покрова\",\n",
        "    \"Герпес ВПЧ и другие ЗППП\",\n",
        "    \"Легкие заболевания и нарушения пигментации\",\n",
        "    \"Волчанка и другие заболевания соединительной ткани\",\n",
        "    \"Меланома, рак кожи, невусы и родинки\",\n",
        "    \"Грибок ногтей и другие заболевания ногтей\",\n",
        "    \"Ядовитый плющ и другие контактные дерматиты\",\n",
        "    \"Псориаз, красный плоский лишай и связанные с ними заболевания\",\n",
        "    \"Чесотка, болезнь Лайма и другие инвазии и укусы\",\n",
        "    \"Себорейные кератозы и другие доброкачественные опухоли\",\n",
        "    \"Системное заболевание\",\n",
        "    \"Опоясывающий лишай Кандидоз и другие грибковые инфекции\",\n",
        "    \"Крапивница\",\n",
        "    \"Сосудистые опухоли\",\n",
        "    \"Васкулит\",\n",
        "    \"Бородавки, моллюски и другие вирусные инфекции\"\n",
        "]\n"
      ]
    },
    {
      "cell_type": "code",
      "execution_count": null,
      "metadata": {
        "colab": {
          "base_uri": "https://localhost:8080/"
        },
        "id": "Kf4ylQLB1wG4",
        "outputId": "9ed63019-ef36-4d02-9253-aa1bb69c4a5a"
      },
      "outputs": [
        {
          "name": "stdout",
          "output_type": "stream",
          "text": [
            "Сервер доступен по адресу: NgrokTunnel: \"https://2613-35-184-73-157.ngrok-free.app\" -> \"http://localhost:5000\"\n"
          ]
        }
      ],
      "source": [
        "transform = transforms.Compose([\n",
        "    transforms.Resize((224, 224)),\n",
        "    transforms.ToTensor(),\n",
        "])\n",
        "# Завершаем предыдущие туннели, если есть\n",
        "ngrok.kill()\n",
        "\n",
        "# Инициализация Flask\n",
        "app = Flask(__name__)\n",
        "\n",
        "# Подключаем ngrok\n",
        "ngrok.set_auth_token(\"NGROK_AUTH_TOKEN\")\n",
        "public_url = ngrok.connect(5000)\n",
        "print(\"Сервер доступен по адресу:\", public_url)\n",
        "\n",
        "\n",
        "@app.route(\"/predict\", methods=[\"POST\"])\n",
        "def predict():\n",
        "    print(\"Запрос получен\")\n",
        "\n",
        "    if 'image' not in request.files:\n",
        "        return jsonify({\"error\": \"Нет изображения\"}), 400\n",
        "\n",
        "    file = request.files[\"image\"]\n",
        "    img_bytes = file.read()\n",
        "    image = Image.open(io.BytesIO(img_bytes)).convert(\"RGB\")\n",
        "    input_tensor = transform(image).unsqueeze(0)\n",
        "\n",
        "    with torch.no_grad():\n",
        "        outputs = model(input_tensor)\n",
        "        _, predicted = torch.max(outputs, 1)\n",
        "        result = labels[predicted.item()]\n",
        "\n",
        "    return jsonify({\"result\": result})\n",
        "    app.run()"
      ]
    }
  ],
  "metadata": {
    "colab": {
      "provenance": []
    },
    "kernelspec": {
      "display_name": "Python 3",
      "name": "python3"
    },
    "language_info": {
      "name": "python"
    }
  },
  "nbformat": 4,
  "nbformat_minor": 0
}
